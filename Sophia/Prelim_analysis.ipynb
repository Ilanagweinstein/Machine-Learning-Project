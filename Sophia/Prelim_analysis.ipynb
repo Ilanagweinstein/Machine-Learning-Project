{
 "cells": [
  {
   "cell_type": "markdown",
   "metadata": {},
   "source": [
    "This dataset includes reviews for restaurants located in New York City. Reviews include product and user id, timestamp, ratings, and a plaintext review. Yelp has a filtering algorithm in place that identifies fake/suspicious reviews and separates them into a filtered list. This Yelp dataset contains both recommended and filtered reviews. We consider them as genuine and fake, respectively. Your goal is to predict whether a review is fake or not, i.e. a binary classification task. The positive classes (+1) are fake reviews and the negative classes are genuine reviews (0). Note that the classes are imbalanced, with around 10% fake reviews."
   ]
  },
  {
   "cell_type": "code",
   "execution_count": null,
   "metadata": {},
   "outputs": [],
   "source": [
    "#ToDo:\n",
    "#POS tagging in preprocessing and visual\n",
    "#problems with average word length  - KeyError\n",
    "#Feature Extraction: Word2Vec, Bart, Glove, etc.\n",
    "#Imbalanced Classes\n",
    "#Modeling"
   ]
  },
  {
   "cell_type": "code",
   "execution_count": 3,
   "metadata": {},
   "outputs": [],
   "source": [
    "import pandas as pd\n",
    "import numpy as np\n",
    "import os"
   ]
  },
  {
   "cell_type": "code",
   "execution_count": 208,
   "metadata": {},
   "outputs": [],
   "source": [
    "import warnings\n",
    "warnings.filterwarnings('ignore')"
   ]
  },
  {
   "cell_type": "code",
   "execution_count": 309,
   "metadata": {},
   "outputs": [],
   "source": [
    "train = pd.DataFrame(pd.read_csv(os.getcwd() + '/' + 'train.csv', sep=','))\n",
    "dev = pd.DataFrame(pd.read_csv(os.getcwd() + '/' + 'dev.csv', sep=','))"
   ]
  },
  {
   "cell_type": "code",
   "execution_count": 85,
   "metadata": {},
   "outputs": [],
   "source": [
    "X_train = train.drop(['label'], axis=1)\n",
    "y_train = train['label']"
   ]
  },
  {
   "cell_type": "code",
   "execution_count": 60,
   "metadata": {},
   "outputs": [],
   "source": [
    "X_val = dev.drop(['label'], axis=1)\n",
    "y_val = dev['label']"
   ]
  },
  {
   "cell_type": "markdown",
   "metadata": {},
   "source": [
    "### Preprocessing\n",
    "\n",
    "convert to lower case, remove punctuation from each word, remove remaining tokens that are not alphabetic, filter out stop words.\n",
    "\n",
    "Pretty slow; maybe look into spaCy instead.\n",
    "\n",
    "https://realpython.com/natural-language-processing-spacy-python/\n",
    "\n",
    "```python\n",
    "!pip install spacy \n",
    "!python -m spacy download en\n",
    "\n",
    "import spacy\n",
    "nlp = spacy.load('en_core_web_sm')\n",
    "```\n",
    "\n",
    "Comparing the two:\n",
    "\n",
    "https://towardsdatascience.com/text-preprocessing-steps-and-universal-pipeline-94233cb6725a"
   ]
  },
  {
   "cell_type": "code",
   "execution_count": null,
   "metadata": {},
   "outputs": [],
   "source": [
    "# import the necessary libraries \n",
    "import nltk\n",
    "#nltk.download('averaged_perceptron_tagger')"
   ]
  },
  {
   "cell_type": "code",
   "execution_count": 307,
   "metadata": {},
   "outputs": [],
   "source": [
    "def addDomainFeatures(data):\n",
    "\n",
    "    length = []\n",
    "    for i in data.index:\n",
    "        length.append(len(data['review'][i].split(' ')))\n",
    "        \n",
    "    numbers = []\n",
    "    for i in data.index:\n",
    "        alph = list(filter(str.isdigit, data['review'][i]))  \n",
    "        if len(alph) == 0:\n",
    "            numbers.append(0)\n",
    "        else:\n",
    "            numbers.append(sum(map(str.isdigit, alph)) / len(alph))\n",
    "        \n",
    "    caps = []\n",
    "    for i in data.index:\n",
    "        alph = list(filter(str.isalpha, data['review'][i]))  \n",
    "        if len(alph) == 0:\n",
    "            caps.append(0)\n",
    "        else:\n",
    "            caps.append(sum(map(str.isupper, alph)) / len(alph))\n",
    "        \n",
    "    num_sent = []\n",
    "    for i in data.index:\n",
    "        num_sent.append(len(data['review'][i].split('.')))\n",
    "        \n",
    "    data['length'] = length\n",
    "    data['numbers'] = numbers\n",
    "    data['caps'] = caps\n",
    "    data['num_sent'] = num_sent\n",
    "        \n",
    "#         #avg word length \n",
    "#         words = test['review'][i].split(' ')\n",
    "#         if len(words) == 0:\n",
    "#             data['avg_words'][i] = 0\n",
    "#         else:\n",
    "#             data['avg_words'][i] = sum(len(word) for word in words) / len(words)\n",
    "\n",
    "        #add percents of POS\n"
   ]
  },
  {
   "cell_type": "code",
   "execution_count": 236,
   "metadata": {},
   "outputs": [],
   "source": [
    "#dates\n",
    "def addDateInfo(data):\n",
    "    data['my_dates'] = pd.to_datetime(data['date'])\n",
    "    data['day_of_week'] = data['my_dates'].dt.day_name()\n",
    "    data['month'] = data['my_dates'].dt.month\n",
    "    data['year'] = data['my_dates'].dt.year\n",
    "    data['week_day'] =data['my_dates'].dt.weekday"
   ]
  },
  {
   "cell_type": "code",
   "execution_count": 233,
   "metadata": {},
   "outputs": [
    {
     "data": {
      "text/plain": [
       "[('The', 'DT'),\n",
       " ('food', 'NN'),\n",
       " ('at', 'IN'),\n",
       " ('snack', 'NN'),\n",
       " ('is', 'VBZ'),\n",
       " ('a', 'DT'),\n",
       " ('selection', 'NN'),\n",
       " ('of', 'IN'),\n",
       " ('popular', 'JJ'),\n",
       " ('Greek', 'NNP'),\n",
       " ('dishes.', 'NN'),\n",
       " ('The', 'DT'),\n",
       " ('appetizer', 'NN'),\n",
       " ('tray', 'NN'),\n",
       " ('is', 'VBZ'),\n",
       " ('good', 'JJ'),\n",
       " ('as', 'IN'),\n",
       " ('is', 'VBZ'),\n",
       " ('the', 'DT'),\n",
       " ('Greek', 'JJ'),\n",
       " ('salad.', 'NN'),\n",
       " ('We', 'PRP'),\n",
       " ('were', 'VBD'),\n",
       " ('underwhelmed', 'VBN'),\n",
       " ('with', 'IN'),\n",
       " ('the', 'DT'),\n",
       " ('main', 'JJ'),\n",
       " ('courses.', 'NN'),\n",
       " ('There', 'EX'),\n",
       " ('are', 'VBP'),\n",
       " ('4-5', 'JJ'),\n",
       " ('tables', 'NNS'),\n",
       " ('here', 'RB'),\n",
       " ('so', 'RB'),\n",
       " (\"it's\", 'JJ'),\n",
       " ('sometimes', 'RB'),\n",
       " ('hard', 'RB'),\n",
       " ('to', 'TO'),\n",
       " ('get', 'VB'),\n",
       " ('seated.', 'JJ')]"
      ]
     },
     "execution_count": 233,
     "metadata": {},
     "output_type": "execute_result"
    }
   ],
   "source": [
    "#POS tagging - To Do\n",
    "nltk.pos_tag(test['review'][0].split(' '))"
   ]
  },
  {
   "cell_type": "code",
   "execution_count": 22,
   "metadata": {},
   "outputs": [],
   "source": [
    "# import the necessary libraries \n",
    "import nltk \n",
    "import string \n",
    "import re \n",
    "\n",
    "from nltk.corpus import stopwords\n",
    "from nltk.tokenize import word_tokenize\n",
    "\n",
    "# import nltk\n",
    "# nltk.download('punkt')\n",
    "\n",
    "# import nltk\n",
    "# nltk.download('stopwords')"
   ]
  },
  {
   "cell_type": "code",
   "execution_count": 242,
   "metadata": {},
   "outputs": [],
   "source": [
    "def preprocessing(data):\n",
    "    \n",
    "    for i in range(len(data['review'])):\n",
    "        tokens = word_tokenize(data['review'][i])\n",
    "\n",
    "        # convert to lower case\n",
    "        tokens = [w.lower() for w in tokens]\n",
    "\n",
    "        # remove punctuation from each word\n",
    "        table = str.maketrans('', '', string.punctuation)\n",
    "        stripped = [w.translate(table) for w in tokens]\n",
    "\n",
    "        # remove remaining tokens that are not alphabetic\n",
    "        words = [word for word in stripped if word.isalpha()]\n",
    "\n",
    "        # filter out stop words\n",
    "        stop_words = set(stopwords.words('english'))\n",
    "        words = [w for w in words if not w in stop_words]\n",
    "\n",
    "        output = ' '\n",
    "        output = output.join(words)\n",
    "\n",
    "        data['review'][i] = output"
   ]
  },
  {
   "cell_type": "code",
   "execution_count": 322,
   "metadata": {},
   "outputs": [],
   "source": [
    "test = X_train[:15]\n",
    "\n",
    "addDomainFeatures(test)\n",
    "addDateInfo(test)\n",
    "preprocessing(test)"
   ]
  },
  {
   "cell_type": "code",
   "execution_count": 323,
   "metadata": {},
   "outputs": [
    {
     "data": {
      "text/html": [
       "<div>\n",
       "<style scoped>\n",
       "    .dataframe tbody tr th:only-of-type {\n",
       "        vertical-align: middle;\n",
       "    }\n",
       "\n",
       "    .dataframe tbody tr th {\n",
       "        vertical-align: top;\n",
       "    }\n",
       "\n",
       "    .dataframe thead th {\n",
       "        text-align: right;\n",
       "    }\n",
       "</style>\n",
       "<table border=\"1\" class=\"dataframe\">\n",
       "  <thead>\n",
       "    <tr style=\"text-align: right;\">\n",
       "      <th></th>\n",
       "      <th>ex_id</th>\n",
       "      <th>user_id</th>\n",
       "      <th>prod_id</th>\n",
       "      <th>rating</th>\n",
       "      <th>date</th>\n",
       "      <th>review</th>\n",
       "      <th>length</th>\n",
       "      <th>numbers</th>\n",
       "      <th>caps</th>\n",
       "      <th>num_sent</th>\n",
       "      <th>my_dates</th>\n",
       "      <th>day_of_week</th>\n",
       "      <th>month</th>\n",
       "      <th>year</th>\n",
       "      <th>week_day</th>\n",
       "    </tr>\n",
       "  </thead>\n",
       "  <tbody>\n",
       "    <tr>\n",
       "      <th>0</th>\n",
       "      <td>0</td>\n",
       "      <td>923</td>\n",
       "      <td>0</td>\n",
       "      <td>3.0</td>\n",
       "      <td>2014-12-08</td>\n",
       "      <td>food snack selection popular greek dishes appe...</td>\n",
       "      <td>40</td>\n",
       "      <td>0</td>\n",
       "      <td>0.0</td>\n",
       "      <td>1</td>\n",
       "      <td>2014-12-08</td>\n",
       "      <td>Monday</td>\n",
       "      <td>12</td>\n",
       "      <td>2014</td>\n",
       "      <td>0</td>\n",
       "    </tr>\n",
       "    <tr>\n",
       "      <th>1</th>\n",
       "      <td>1</td>\n",
       "      <td>924</td>\n",
       "      <td>0</td>\n",
       "      <td>3.0</td>\n",
       "      <td>2013-05-16</td>\n",
       "      <td>little place soho wonderful lamb sandwich glas...</td>\n",
       "      <td>53</td>\n",
       "      <td>0</td>\n",
       "      <td>0.0</td>\n",
       "      <td>1</td>\n",
       "      <td>2013-05-16</td>\n",
       "      <td>Thursday</td>\n",
       "      <td>5</td>\n",
       "      <td>2013</td>\n",
       "      <td>3</td>\n",
       "    </tr>\n",
       "    <tr>\n",
       "      <th>2</th>\n",
       "      <td>2</td>\n",
       "      <td>925</td>\n",
       "      <td>0</td>\n",
       "      <td>4.0</td>\n",
       "      <td>2013-07-01</td>\n",
       "      <td>ordered lunch snack last friday time nothing m...</td>\n",
       "      <td>31</td>\n",
       "      <td>0</td>\n",
       "      <td>0.0</td>\n",
       "      <td>1</td>\n",
       "      <td>2013-07-01</td>\n",
       "      <td>Monday</td>\n",
       "      <td>7</td>\n",
       "      <td>2013</td>\n",
       "      <td>0</td>\n",
       "    </tr>\n",
       "    <tr>\n",
       "      <th>3</th>\n",
       "      <td>3</td>\n",
       "      <td>926</td>\n",
       "      <td>0</td>\n",
       "      <td>4.0</td>\n",
       "      <td>2011-07-28</td>\n",
       "      <td>beautiful quaint little restaurant pretty stre...</td>\n",
       "      <td>90</td>\n",
       "      <td>0</td>\n",
       "      <td>0.0</td>\n",
       "      <td>1</td>\n",
       "      <td>2011-07-28</td>\n",
       "      <td>Thursday</td>\n",
       "      <td>7</td>\n",
       "      <td>2011</td>\n",
       "      <td>3</td>\n",
       "    </tr>\n",
       "    <tr>\n",
       "      <th>4</th>\n",
       "      <td>4</td>\n",
       "      <td>927</td>\n",
       "      <td>0</td>\n",
       "      <td>4.0</td>\n",
       "      <td>2010-11-01</td>\n",
       "      <td>snack great place casual sit lunch especially ...</td>\n",
       "      <td>105</td>\n",
       "      <td>0</td>\n",
       "      <td>0.0</td>\n",
       "      <td>1</td>\n",
       "      <td>2010-11-01</td>\n",
       "      <td>Monday</td>\n",
       "      <td>11</td>\n",
       "      <td>2010</td>\n",
       "      <td>0</td>\n",
       "    </tr>\n",
       "    <tr>\n",
       "      <th>5</th>\n",
       "      <td>5</td>\n",
       "      <td>928</td>\n",
       "      <td>0</td>\n",
       "      <td>4.0</td>\n",
       "      <td>2009-09-02</td>\n",
       "      <td>solid stars greek food spot fan lamb like must...</td>\n",
       "      <td>41</td>\n",
       "      <td>0</td>\n",
       "      <td>0.0</td>\n",
       "      <td>1</td>\n",
       "      <td>2009-09-02</td>\n",
       "      <td>Wednesday</td>\n",
       "      <td>9</td>\n",
       "      <td>2009</td>\n",
       "      <td>2</td>\n",
       "    </tr>\n",
       "    <tr>\n",
       "      <th>6</th>\n",
       "      <td>7</td>\n",
       "      <td>930</td>\n",
       "      <td>0</td>\n",
       "      <td>4.0</td>\n",
       "      <td>2007-05-20</td>\n",
       "      <td>love place try chicken sandwich roasted chicke...</td>\n",
       "      <td>22</td>\n",
       "      <td>0</td>\n",
       "      <td>0.0</td>\n",
       "      <td>1</td>\n",
       "      <td>2007-05-20</td>\n",
       "      <td>Sunday</td>\n",
       "      <td>5</td>\n",
       "      <td>2007</td>\n",
       "      <td>6</td>\n",
       "    </tr>\n",
       "    <tr>\n",
       "      <th>7</th>\n",
       "      <td>8</td>\n",
       "      <td>931</td>\n",
       "      <td>0</td>\n",
       "      <td>4.0</td>\n",
       "      <td>2005-12-27</td>\n",
       "      <td>friend intrigued nightly entree special little...</td>\n",
       "      <td>104</td>\n",
       "      <td>0</td>\n",
       "      <td>0.0</td>\n",
       "      <td>1</td>\n",
       "      <td>2005-12-27</td>\n",
       "      <td>Tuesday</td>\n",
       "      <td>12</td>\n",
       "      <td>2005</td>\n",
       "      <td>1</td>\n",
       "    </tr>\n",
       "    <tr>\n",
       "      <th>8</th>\n",
       "      <td>10</td>\n",
       "      <td>933</td>\n",
       "      <td>0</td>\n",
       "      <td>5.0</td>\n",
       "      <td>2014-01-21</td>\n",
       "      <td>pretty cool place good food good people</td>\n",
       "      <td>7</td>\n",
       "      <td>0</td>\n",
       "      <td>0.0</td>\n",
       "      <td>1</td>\n",
       "      <td>2014-01-21</td>\n",
       "      <td>Tuesday</td>\n",
       "      <td>1</td>\n",
       "      <td>2014</td>\n",
       "      <td>1</td>\n",
       "    </tr>\n",
       "    <tr>\n",
       "      <th>9</th>\n",
       "      <td>12</td>\n",
       "      <td>935</td>\n",
       "      <td>0</td>\n",
       "      <td>5.0</td>\n",
       "      <td>2011-01-31</td>\n",
       "      <td>fabulous authentic greek food little spot bold...</td>\n",
       "      <td>44</td>\n",
       "      <td>0</td>\n",
       "      <td>0.0</td>\n",
       "      <td>1</td>\n",
       "      <td>2011-01-31</td>\n",
       "      <td>Monday</td>\n",
       "      <td>1</td>\n",
       "      <td>2011</td>\n",
       "      <td>0</td>\n",
       "    </tr>\n",
       "    <tr>\n",
       "      <th>10</th>\n",
       "      <td>13</td>\n",
       "      <td>936</td>\n",
       "      <td>0</td>\n",
       "      <td>5.0</td>\n",
       "      <td>2008-07-07</td>\n",
       "      <td>perfection snack become favorite late lunchear...</td>\n",
       "      <td>17</td>\n",
       "      <td>0</td>\n",
       "      <td>0.0</td>\n",
       "      <td>1</td>\n",
       "      <td>2008-07-07</td>\n",
       "      <td>Monday</td>\n",
       "      <td>7</td>\n",
       "      <td>2008</td>\n",
       "      <td>0</td>\n",
       "    </tr>\n",
       "    <tr>\n",
       "      <th>11</th>\n",
       "      <td>15</td>\n",
       "      <td>938</td>\n",
       "      <td>0</td>\n",
       "      <td>5.0</td>\n",
       "      <td>2014-10-10</td>\n",
       "      <td>braised lamb sandwich one best sandwiches life...</td>\n",
       "      <td>29</td>\n",
       "      <td>0</td>\n",
       "      <td>0.0</td>\n",
       "      <td>1</td>\n",
       "      <td>2014-10-10</td>\n",
       "      <td>Friday</td>\n",
       "      <td>10</td>\n",
       "      <td>2014</td>\n",
       "      <td>4</td>\n",
       "    </tr>\n",
       "    <tr>\n",
       "      <th>12</th>\n",
       "      <td>16</td>\n",
       "      <td>939</td>\n",
       "      <td>0</td>\n",
       "      <td>3.0</td>\n",
       "      <td>2014-10-03</td>\n",
       "      <td>spot close job decided check lunch prices woul...</td>\n",
       "      <td>178</td>\n",
       "      <td>0</td>\n",
       "      <td>0.0</td>\n",
       "      <td>1</td>\n",
       "      <td>2014-10-03</td>\n",
       "      <td>Friday</td>\n",
       "      <td>10</td>\n",
       "      <td>2014</td>\n",
       "      <td>4</td>\n",
       "    </tr>\n",
       "    <tr>\n",
       "      <th>13</th>\n",
       "      <td>18</td>\n",
       "      <td>941</td>\n",
       "      <td>0</td>\n",
       "      <td>5.0</td>\n",
       "      <td>2014-08-10</td>\n",
       "      <td>needed quick healthy light lunch place perfect...</td>\n",
       "      <td>43</td>\n",
       "      <td>0</td>\n",
       "      <td>0.0</td>\n",
       "      <td>1</td>\n",
       "      <td>2014-08-10</td>\n",
       "      <td>Sunday</td>\n",
       "      <td>8</td>\n",
       "      <td>2014</td>\n",
       "      <td>6</td>\n",
       "    </tr>\n",
       "    <tr>\n",
       "      <th>14</th>\n",
       "      <td>19</td>\n",
       "      <td>942</td>\n",
       "      <td>0</td>\n",
       "      <td>4.0</td>\n",
       "      <td>2014-06-17</td>\n",
       "      <td>artichoke chicken salad good plenty</td>\n",
       "      <td>8</td>\n",
       "      <td>0</td>\n",
       "      <td>0.0</td>\n",
       "      <td>1</td>\n",
       "      <td>2014-06-17</td>\n",
       "      <td>Tuesday</td>\n",
       "      <td>6</td>\n",
       "      <td>2014</td>\n",
       "      <td>1</td>\n",
       "    </tr>\n",
       "  </tbody>\n",
       "</table>\n",
       "</div>"
      ],
      "text/plain": [
       "    ex_id  user_id  prod_id  rating        date  \\\n",
       "0       0      923        0     3.0  2014-12-08   \n",
       "1       1      924        0     3.0  2013-05-16   \n",
       "2       2      925        0     4.0  2013-07-01   \n",
       "3       3      926        0     4.0  2011-07-28   \n",
       "4       4      927        0     4.0  2010-11-01   \n",
       "5       5      928        0     4.0  2009-09-02   \n",
       "6       7      930        0     4.0  2007-05-20   \n",
       "7       8      931        0     4.0  2005-12-27   \n",
       "8      10      933        0     5.0  2014-01-21   \n",
       "9      12      935        0     5.0  2011-01-31   \n",
       "10     13      936        0     5.0  2008-07-07   \n",
       "11     15      938        0     5.0  2014-10-10   \n",
       "12     16      939        0     3.0  2014-10-03   \n",
       "13     18      941        0     5.0  2014-08-10   \n",
       "14     19      942        0     4.0  2014-06-17   \n",
       "\n",
       "                                               review  length  numbers  caps  \\\n",
       "0   food snack selection popular greek dishes appe...      40        0   0.0   \n",
       "1   little place soho wonderful lamb sandwich glas...      53        0   0.0   \n",
       "2   ordered lunch snack last friday time nothing m...      31        0   0.0   \n",
       "3   beautiful quaint little restaurant pretty stre...      90        0   0.0   \n",
       "4   snack great place casual sit lunch especially ...     105        0   0.0   \n",
       "5   solid stars greek food spot fan lamb like must...      41        0   0.0   \n",
       "6   love place try chicken sandwich roasted chicke...      22        0   0.0   \n",
       "7   friend intrigued nightly entree special little...     104        0   0.0   \n",
       "8             pretty cool place good food good people       7        0   0.0   \n",
       "9   fabulous authentic greek food little spot bold...      44        0   0.0   \n",
       "10  perfection snack become favorite late lunchear...      17        0   0.0   \n",
       "11  braised lamb sandwich one best sandwiches life...      29        0   0.0   \n",
       "12  spot close job decided check lunch prices woul...     178        0   0.0   \n",
       "13  needed quick healthy light lunch place perfect...      43        0   0.0   \n",
       "14                artichoke chicken salad good plenty       8        0   0.0   \n",
       "\n",
       "    num_sent   my_dates day_of_week  month  year  week_day  \n",
       "0          1 2014-12-08      Monday     12  2014         0  \n",
       "1          1 2013-05-16    Thursday      5  2013         3  \n",
       "2          1 2013-07-01      Monday      7  2013         0  \n",
       "3          1 2011-07-28    Thursday      7  2011         3  \n",
       "4          1 2010-11-01      Monday     11  2010         0  \n",
       "5          1 2009-09-02   Wednesday      9  2009         2  \n",
       "6          1 2007-05-20      Sunday      5  2007         6  \n",
       "7          1 2005-12-27     Tuesday     12  2005         1  \n",
       "8          1 2014-01-21     Tuesday      1  2014         1  \n",
       "9          1 2011-01-31      Monday      1  2011         0  \n",
       "10         1 2008-07-07      Monday      7  2008         0  \n",
       "11         1 2014-10-10      Friday     10  2014         4  \n",
       "12         1 2014-10-03      Friday     10  2014         4  \n",
       "13         1 2014-08-10      Sunday      8  2014         6  \n",
       "14         1 2014-06-17     Tuesday      6  2014         1  "
      ]
     },
     "execution_count": 323,
     "metadata": {},
     "output_type": "execute_result"
    }
   ],
   "source": [
    "test"
   ]
  },
  {
   "cell_type": "markdown",
   "metadata": {},
   "source": [
    "### Feature Extraction\n",
    "\n",
    "We have used unigram presence, unigram frequency, bigram presence, bigram frequency and review\n",
    "length as features for our model. (http://www.ijceronline.com/papers/Vol5_issue5/J055052056.pdf)\n",
    "\n",
    "We can test which works best:\n",
    "\n",
    "- Count Vectorizer\n",
    "\n",
    "Counts number of occurance of each words in vocabulary base. Transforms each review into a feature with vocabulary base. Now we can use any ML model we want. \n",
    "\n",
    "Cons: only the occurance of the words not the meaning is taken into consideration aka order ignorant. \n",
    "\n",
    "- Tfidf\n",
    "\n",
    "- Word2Vec"
   ]
  },
  {
   "cell_type": "code",
   "execution_count": 294,
   "metadata": {},
   "outputs": [],
   "source": [
    "# test = test.dropna"
   ]
  },
  {
   "cell_type": "code",
   "execution_count": 97,
   "metadata": {},
   "outputs": [],
   "source": [
    "from sklearn.feature_extraction.text import CountVectorizer, TfidfVectorizer "
   ]
  },
  {
   "cell_type": "code",
   "execution_count": 89,
   "metadata": {},
   "outputs": [
    {
     "data": {
      "text/plain": [
       "['able',\n",
       " 'able eat',\n",
       " 'able replicate',\n",
       " 'able stand',\n",
       " 'absolutely',\n",
       " 'absolutely delicious',\n",
       " 'absolutely loved',\n",
       " 'absolutely recommend',\n",
       " 'accept',\n",
       " 'accept credit']"
      ]
     },
     "execution_count": 89,
     "metadata": {},
     "output_type": "execute_result"
    }
   ],
   "source": [
    "#CountVectorizer\n",
    "binary_vectorizer = CountVectorizer(binary=True, ngram_range=(1, 2), stop_words='english')\n",
    "binary_vectorizer.fit(test['review'])\n",
    "list(binary_vectorizer.vocabulary_.keys())[0:10]\n",
    "binary_vectorizer.get_feature_names()[0:10]"
   ]
  },
  {
   "cell_type": "code",
   "execution_count": 94,
   "metadata": {},
   "outputs": [],
   "source": [
    "X_train_binary = binary_vectorizer.transform(test['review'])"
   ]
  },
  {
   "cell_type": "code",
   "execution_count": 95,
   "metadata": {},
   "outputs": [
    {
     "data": {
      "text/plain": [
       "<50x1970 sparse matrix of type '<class 'numpy.int64'>'\n",
       "\twith 2654 stored elements in Compressed Sparse Row format>"
      ]
     },
     "execution_count": 95,
     "metadata": {},
     "output_type": "execute_result"
    }
   ],
   "source": [
    "X_train_binary"
   ]
  },
  {
   "cell_type": "code",
   "execution_count": 247,
   "metadata": {},
   "outputs": [],
   "source": [
    "#TfidfVectorizer\n",
    "binary_Tfidf_vectorizer = TfidfVectorizer(binary=True, ngram_range=(1, 2), stop_words='english')\n",
    "binary_Tfidf_vectorizer.fit(test['review'])\n",
    "list(binary_Tfidf_vectorizer.vocabulary_.keys())[0:10]\n",
    "binary_Tfidf_vectorizer.get_feature_names()[0:10]\n",
    "\n",
    "#stores data in sparse matrix\n",
    "X_train_binary_Tfidf = binary_Tfidf_vectorizer.transform(test['review'])"
   ]
  },
  {
   "cell_type": "code",
   "execution_count": 100,
   "metadata": {},
   "outputs": [
    {
     "data": {
      "text/plain": [
       "<50x1970 sparse matrix of type '<class 'numpy.float64'>'\n",
       "\twith 2654 stored elements in Compressed Sparse Row format>"
      ]
     },
     "execution_count": 100,
     "metadata": {},
     "output_type": "execute_result"
    }
   ],
   "source": [
    "X_train_binary_Tfidf"
   ]
  },
  {
   "cell_type": "code",
   "execution_count": null,
   "metadata": {},
   "outputs": [],
   "source": [
    "#word2vec and others\n"
   ]
  },
  {
   "cell_type": "code",
   "execution_count": null,
   "metadata": {},
   "outputs": [],
   "source": []
  },
  {
   "cell_type": "markdown",
   "metadata": {},
   "source": [
    "### Creating training dataset"
   ]
  },
  {
   "cell_type": "code",
   "execution_count": null,
   "metadata": {},
   "outputs": [],
   "source": [
    "from scipy import sparse"
   ]
  },
  {
   "cell_type": "code",
   "execution_count": 245,
   "metadata": {},
   "outputs": [
    {
     "data": {
      "text/plain": [
       "Index(['ex_id', 'user_id', 'prod_id', 'rating', 'label', 'date', 'review',\n",
       "       'length', 'numbers', 'caps', 'num_sent', 'avg_words', 'my_dates',\n",
       "       'day_of_week', 'month', 'year', 'week_day'],\n",
       "      dtype='object')"
      ]
     },
     "execution_count": 245,
     "metadata": {},
     "output_type": "execute_result"
    }
   ],
   "source": [
    "test.columns"
   ]
  },
  {
   "cell_type": "code",
   "execution_count": 248,
   "metadata": {},
   "outputs": [],
   "source": [
    "#create training data with old features and new features\n",
    "num_feats = test[['user_id', 'rating', 'length', 'numbers', \n",
    "                  'caps', 'num_sent', 'avg_words']].values\n",
    "\n",
    "training_data = sparse.hstack((X_train_binary_Tfidf, num_feats))"
   ]
  },
  {
   "cell_type": "markdown",
   "metadata": {},
   "source": [
    "### Visulizations\n",
    "Usually the length of fake review will be on the lesser side because of the following reasons:\n",
    "- Reviewer will not have much knowledge about the product/business.\n",
    "- Reviewer tries to achieve the objective with as few words as possible."
   ]
  },
  {
   "cell_type": "code",
   "execution_count": 130,
   "metadata": {},
   "outputs": [],
   "source": [
    "import matplotlib.pyplot as plt"
   ]
  },
  {
   "cell_type": "code",
   "execution_count": 138,
   "metadata": {},
   "outputs": [],
   "source": [
    "import seaborn as sns"
   ]
  },
  {
   "cell_type": "code",
   "execution_count": 295,
   "metadata": {},
   "outputs": [],
   "source": [
    "testing = train.copy()"
   ]
  },
  {
   "cell_type": "code",
   "execution_count": null,
   "metadata": {},
   "outputs": [],
   "source": [
    "addDomainFeatures(testing)"
   ]
  },
  {
   "cell_type": "code",
   "execution_count": 313,
   "metadata": {},
   "outputs": [],
   "source": [
    "addDateInfo(testing)"
   ]
  },
  {
   "cell_type": "code",
   "execution_count": 314,
   "metadata": {},
   "outputs": [
    {
     "data": {
      "text/html": [
       "<div>\n",
       "<style scoped>\n",
       "    .dataframe tbody tr th:only-of-type {\n",
       "        vertical-align: middle;\n",
       "    }\n",
       "\n",
       "    .dataframe tbody tr th {\n",
       "        vertical-align: top;\n",
       "    }\n",
       "\n",
       "    .dataframe thead th {\n",
       "        text-align: right;\n",
       "    }\n",
       "</style>\n",
       "<table border=\"1\" class=\"dataframe\">\n",
       "  <thead>\n",
       "    <tr style=\"text-align: right;\">\n",
       "      <th></th>\n",
       "      <th>ex_id</th>\n",
       "      <th>user_id</th>\n",
       "      <th>prod_id</th>\n",
       "      <th>rating</th>\n",
       "      <th>label</th>\n",
       "      <th>date</th>\n",
       "      <th>review</th>\n",
       "      <th>length</th>\n",
       "      <th>numbers</th>\n",
       "      <th>caps</th>\n",
       "      <th>num_sent</th>\n",
       "      <th>my_dates</th>\n",
       "      <th>day_of_week</th>\n",
       "      <th>month</th>\n",
       "      <th>year</th>\n",
       "      <th>week_day</th>\n",
       "    </tr>\n",
       "  </thead>\n",
       "  <tbody>\n",
       "    <tr>\n",
       "      <th>0</th>\n",
       "      <td>0</td>\n",
       "      <td>923</td>\n",
       "      <td>0</td>\n",
       "      <td>3.0</td>\n",
       "      <td>1</td>\n",
       "      <td>2014-12-08</td>\n",
       "      <td>The food at snack is a selection of popular Gr...</td>\n",
       "      <td>40</td>\n",
       "      <td>1.0</td>\n",
       "      <td>0.035714</td>\n",
       "      <td>5</td>\n",
       "      <td>2014-12-08</td>\n",
       "      <td>Monday</td>\n",
       "      <td>12</td>\n",
       "      <td>2014</td>\n",
       "      <td>0</td>\n",
       "    </tr>\n",
       "    <tr>\n",
       "      <th>1</th>\n",
       "      <td>1</td>\n",
       "      <td>924</td>\n",
       "      <td>0</td>\n",
       "      <td>3.0</td>\n",
       "      <td>1</td>\n",
       "      <td>2013-05-16</td>\n",
       "      <td>This little place in Soho is wonderful. I had ...</td>\n",
       "      <td>52</td>\n",
       "      <td>0.0</td>\n",
       "      <td>0.028846</td>\n",
       "      <td>5</td>\n",
       "      <td>2013-05-16</td>\n",
       "      <td>Thursday</td>\n",
       "      <td>5</td>\n",
       "      <td>2013</td>\n",
       "      <td>3</td>\n",
       "    </tr>\n",
       "    <tr>\n",
       "      <th>2</th>\n",
       "      <td>2</td>\n",
       "      <td>925</td>\n",
       "      <td>0</td>\n",
       "      <td>4.0</td>\n",
       "      <td>1</td>\n",
       "      <td>2013-07-01</td>\n",
       "      <td>ordered lunch for 15 from Snack last Friday.  ...</td>\n",
       "      <td>32</td>\n",
       "      <td>1.0</td>\n",
       "      <td>0.028986</td>\n",
       "      <td>4</td>\n",
       "      <td>2013-07-01</td>\n",
       "      <td>Monday</td>\n",
       "      <td>7</td>\n",
       "      <td>2013</td>\n",
       "      <td>0</td>\n",
       "    </tr>\n",
       "    <tr>\n",
       "      <th>3</th>\n",
       "      <td>3</td>\n",
       "      <td>926</td>\n",
       "      <td>0</td>\n",
       "      <td>4.0</td>\n",
       "      <td>1</td>\n",
       "      <td>2011-07-28</td>\n",
       "      <td>This is a beautiful quaint little restaurant o...</td>\n",
       "      <td>90</td>\n",
       "      <td>0.0</td>\n",
       "      <td>0.020725</td>\n",
       "      <td>8</td>\n",
       "      <td>2011-07-28</td>\n",
       "      <td>Thursday</td>\n",
       "      <td>7</td>\n",
       "      <td>2011</td>\n",
       "      <td>3</td>\n",
       "    </tr>\n",
       "    <tr>\n",
       "      <th>4</th>\n",
       "      <td>4</td>\n",
       "      <td>927</td>\n",
       "      <td>0</td>\n",
       "      <td>4.0</td>\n",
       "      <td>1</td>\n",
       "      <td>2010-11-01</td>\n",
       "      <td>Snack is great place for a  casual sit down lu...</td>\n",
       "      <td>102</td>\n",
       "      <td>0.0</td>\n",
       "      <td>0.021186</td>\n",
       "      <td>13</td>\n",
       "      <td>2010-11-01</td>\n",
       "      <td>Monday</td>\n",
       "      <td>11</td>\n",
       "      <td>2010</td>\n",
       "      <td>0</td>\n",
       "    </tr>\n",
       "  </tbody>\n",
       "</table>\n",
       "</div>"
      ],
      "text/plain": [
       "   ex_id  user_id  prod_id  rating  label        date  \\\n",
       "0      0      923        0     3.0      1  2014-12-08   \n",
       "1      1      924        0     3.0      1  2013-05-16   \n",
       "2      2      925        0     4.0      1  2013-07-01   \n",
       "3      3      926        0     4.0      1  2011-07-28   \n",
       "4      4      927        0     4.0      1  2010-11-01   \n",
       "\n",
       "                                              review  length  numbers  \\\n",
       "0  The food at snack is a selection of popular Gr...      40      1.0   \n",
       "1  This little place in Soho is wonderful. I had ...      52      0.0   \n",
       "2  ordered lunch for 15 from Snack last Friday.  ...      32      1.0   \n",
       "3  This is a beautiful quaint little restaurant o...      90      0.0   \n",
       "4  Snack is great place for a  casual sit down lu...     102      0.0   \n",
       "\n",
       "       caps  num_sent   my_dates day_of_week  month  year  week_day  \n",
       "0  0.035714         5 2014-12-08      Monday     12  2014         0  \n",
       "1  0.028846         5 2013-05-16    Thursday      5  2013         3  \n",
       "2  0.028986         4 2013-07-01      Monday      7  2013         0  \n",
       "3  0.020725         8 2011-07-28    Thursday      7  2011         3  \n",
       "4  0.021186        13 2010-11-01      Monday     11  2010         0  "
      ]
     },
     "execution_count": 314,
     "metadata": {},
     "output_type": "execute_result"
    }
   ],
   "source": [
    "testing.head()"
   ]
  },
  {
   "cell_type": "code",
   "execution_count": 315,
   "metadata": {},
   "outputs": [
    {
     "data": {
      "image/png": "[encoded data removed]",
      "text/plain": [
       "<Figure size 432x288 with 1 Axes>"
      ]
     },
     "metadata": {},
     "output_type": "display_data"
    }
   ],
   "source": [
    "ax = sns.barplot(x=\"label\", y=\"length\", data=testing)"
   ]
  },
  {
   "cell_type": "code",
   "execution_count": 316,
   "metadata": {},
   "outputs": [
    {
     "data": {
      "image/png": "[encoded data removed]",
      "text/plain": [
       "<Figure size 432x288 with 1 Axes>"
      ]
     },
     "metadata": {},
     "output_type": "display_data"
    }
   ],
   "source": [
    "ax = sns.barplot(x=\"rating\", y=\"length\", hue=\"label\", data=testing)"
   ]
  },
  {
   "cell_type": "code",
   "execution_count": 317,
   "metadata": {},
   "outputs": [
    {
     "data": {
      "image/png": "[encoded data removed]",
      "text/plain": [
       "<Figure size 432x288 with 1 Axes>"
      ]
     },
     "metadata": {},
     "output_type": "display_data"
    }
   ],
   "source": [
    "ax = sns.barplot(x=\"day_of_week\", y=\"length\", hue=\"label\", data=testing)"
   ]
  },
  {
   "cell_type": "code",
   "execution_count": 318,
   "metadata": {},
   "outputs": [
    {
     "data": {
      "image/png": "[encoded data removed]",
      "text/plain": [
       "<Figure size 432x288 with 1 Axes>"
      ]
     },
     "metadata": {},
     "output_type": "display_data"
    }
   ],
   "source": [
    "ax = sns.barplot(x=\"year\", y=\"length\", hue=\"label\", data=testing)"
   ]
  },
  {
   "cell_type": "code",
   "execution_count": 324,
   "metadata": {},
   "outputs": [
    {
     "data": {
      "image/png": "[encoded data removed]",
      "text/plain": [
       "<Figure size 432x288 with 1 Axes>"
      ]
     },
     "metadata": {},
     "output_type": "display_data"
    }
   ],
   "source": [
    "#number of sentences\n",
    "ax = sns.boxplot(x=\"label\", y=\"num_sent\", data=testing)"
   ]
  },
  {
   "cell_type": "code",
   "execution_count": null,
   "metadata": {},
   "outputs": [],
   "source": [
    "#POS visual"
   ]
  },
  {
   "cell_type": "code",
   "execution_count": null,
   "metadata": {},
   "outputs": [],
   "source": [
    "#word visualization\n",
    "#scatter plot or line plot \n",
    "#userid chart to show why we are including it in the training datatset"
   ]
  },
  {
   "cell_type": "markdown",
   "metadata": {},
   "source": [
    "### Imabalanced Classes\n",
    "\n",
    "SMOTE"
   ]
  },
  {
   "cell_type": "markdown",
   "metadata": {},
   "source": [
    "### Modeling\n",
    "Naïve Bayes Classifier, Support Vector\n",
    "Machines and Logistic Regression classifiers"
   ]
  },
  {
   "cell_type": "code",
   "execution_count": null,
   "metadata": {},
   "outputs": [],
   "source": [
    "from sklearn.linear_model import LogisticRegression\n",
    "from sklearn.naive_bayes import BernoulliNB\n",
    "from sklearn.metrics import roc_curve, auc\n",
    "\n",
    "#L O G I S T I C  R E G R E S S I O N \n",
    "#CountVectorizer\n",
    "countvec_LR_model = LogisticRegression()\n",
    "countvec_LR_model.fit(X_train_binary, Y_train)\n",
    "countvec_LR_fpr, countvec_LR_tpr, countvec_LR_thresholds = roc_curve(Y_test, countvec_LR_model.predict_proba(X_test_binary)[:,1])\n",
    "countvec_LR_auc = auc(countvec_LR_fpr, countvec_LR_tpr)\n",
    "\n",
    "#TfidfVectorizer\n",
    "Tfidf_LR_model = LogisticRegression()\n",
    "Tfidf_LR_model.fit(X_train_binary_Tfidf, Y_train)\n",
    "Tfidf_LR_fpr, Tfidf_LR_tpr, Tfidf_LR_thresholds = roc_curve(Y_test, Tfidf_LR_model.predict_proba(X_test_binary_Tfidf)[:,1])\n",
    "Tfidf_LR_auc = auc(Tfidf_LR_fpr, Tfidf_LR_tpr)\n",
    "\n",
    "#B E R N O U L L I  N B \n",
    "#CountVectorizer\n",
    "countvec_NB_model = BernoulliNB()\n",
    "countvec_NB_model.fit(X_train_binary, Y_train)\n",
    "countvec_NB_fpr, countvec_NB_tpr, countvec_NB_thresholds = roc_curve(Y_test, countvec_NB_model.predict_proba(X_test_binary)[:,1])\n",
    "countvec_NB_auc = auc(countvec_NB_fpr, countvec_NB_tpr)\n",
    "\n",
    "#TfidfVectorizer\n",
    "Tfidf_NB_model = BernoulliNB()\n",
    "Tfidf_NB_model.fit(X_train_binary_Tfidf, Y_train)\n",
    "Tfidf_NB_fpr, Tfidf_NB_tpr, Tfidf_NB_thresholds = roc_curve(Y_test, Tfidf_NB_model.predict_proba(X_test_binary_Tfidf)[:,1])\n",
    "Tfidf_NB_auc = auc(Tfidf_NB_fpr, Tfidf_NB_tpr)"
   ]
  }
 ],
 "metadata": {
  "kernelspec": {
   "display_name": "Python 3",
   "language": "python",
   "name": "python3"
  },
  "language_info": {
   "codemirror_mode": {
    "name": "ipython",
    "version": 3
   },
   "file_extension": ".py",
   "mimetype": "text/x-python",
   "name": "python",
   "nbconvert_exporter": "python",
   "pygments_lexer": "ipython3",
   "version": "3.6.4"
  }
 },
 "nbformat": 4,
 "nbformat_minor": 2
}
