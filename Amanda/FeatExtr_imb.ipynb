{
 "cells": [
  {
   "cell_type": "markdown",
   "metadata": {},
   "source": [
    "This dataset includes reviews for restaurants located in New York City. Reviews include product and user id, timestamp, ratings, and a plaintext review. Yelp has a filtering algorithm in place that identifies fake/suspicious reviews and separates them into a filtered list. This Yelp dataset contains both recommended and filtered reviews. We consider them as genuine and fake, respectively. Your goal is to predict whether a review is fake or not, i.e. a binary classification task. The positive classes (+1) are fake reviews and the negative classes are genuine reviews (0). Note that the classes are imbalanced, with around 10% fake reviews."
   ]
  },
  {
   "cell_type": "code",
   "execution_count": 1,
   "metadata": {},
   "outputs": [],
   "source": [
    "#ToDo:\n",
    "#POS tagging in preprocessing and visual\n",
    "#problems with average word length  - KeyError\n",
    "#Feature Extraction: Word2Vec, Bart, Glove, etc.\n",
    "#Imbalanced Classes\n",
    "#Modeling"
   ]
  },
  {
   "cell_type": "code",
   "execution_count": 54,
   "metadata": {},
   "outputs": [],
   "source": [
    "import pandas as pd\n",
    "import numpy as np\n",
    "import matplotlib.pyplot as plt\n",
    "import os"
   ]
  },
  {
   "cell_type": "code",
   "execution_count": 3,
   "metadata": {},
   "outputs": [],
   "source": [
    "import warnings\n",
    "warnings.filterwarnings('ignore')"
   ]
  },
  {
   "cell_type": "code",
   "execution_count": 4,
   "metadata": {},
   "outputs": [],
   "source": [
    "train = pd.DataFrame(pd.read_csv(os.getcwd() + '/' + 'train.csv', sep=','))\n",
    "dev = pd.DataFrame(pd.read_csv(os.getcwd() + '/' + 'dev.csv', sep=','))"
   ]
  },
  {
   "cell_type": "code",
   "execution_count": 5,
   "metadata": {},
   "outputs": [],
   "source": [
    "X_train = train.drop(['label'], axis=1)\n",
    "y_train = train['label']"
   ]
  },
  {
   "cell_type": "code",
   "execution_count": 6,
   "metadata": {},
   "outputs": [],
   "source": [
    "X_val = dev.drop(['label'], axis=1)\n",
    "y_val = dev['label']"
   ]
  },
  {
   "cell_type": "markdown",
   "metadata": {},
   "source": [
    "### Preprocessing\n",
    "\n",
    "convert to lower case, remove punctuation from each word, remove remaining tokens that are not alphabetic, filter out stop words.\n",
    "\n",
    "Pretty slow; maybe look into spaCy instead.\n",
    "\n",
    "https://realpython.com/natural-language-processing-spacy-python/\n",
    "\n",
    "```python\n",
    "!pip install spacy \n",
    "!python -m spacy download en\n",
    "\n",
    "import spacy\n",
    "nlp = spacy.load('en_core_web_sm')\n",
    "```\n",
    "\n",
    "Comparing the two:\n",
    "\n",
    "https://towardsdatascience.com/text-preprocessing-steps-and-universal-pipeline-94233cb6725a"
   ]
  },
  {
   "cell_type": "code",
   "execution_count": 7,
   "metadata": {},
   "outputs": [
    {
     "name": "stderr",
     "output_type": "stream",
     "text": [
      "[nltk_data] Downloading package averaged_perceptron_tagger to\n",
      "[nltk_data]     /Users/amandarella/nltk_data...\n",
      "[nltk_data]   Unzipping taggers/averaged_perceptron_tagger.zip.\n"
     ]
    },
    {
     "data": {
      "text/plain": [
       "True"
      ]
     },
     "execution_count": 7,
     "metadata": {},
     "output_type": "execute_result"
    }
   ],
   "source": [
    "# import the necessary libraries \n",
    "import nltk\n",
    "nltk.download('averaged_perceptron_tagger')"
   ]
  },
  {
   "cell_type": "code",
   "execution_count": 8,
   "metadata": {},
   "outputs": [],
   "source": [
    "def addDomainFeatures(data):\n",
    "\n",
    "    length = []\n",
    "    for i in data.index:\n",
    "        length.append(len(data['review'][i].split(' ')))\n",
    "        \n",
    "    numbers = []\n",
    "    for i in data.index:\n",
    "        alph = list(filter(str.isdigit, data['review'][i]))  \n",
    "        if len(alph) == 0:\n",
    "            numbers.append(0)\n",
    "        else:\n",
    "            numbers.append(sum(map(str.isdigit, alph)) / len(alph))\n",
    "        \n",
    "    caps = []\n",
    "    for i in data.index:\n",
    "        alph = list(filter(str.isalpha, data['review'][i]))  \n",
    "        if len(alph) == 0:\n",
    "            caps.append(0)\n",
    "        else:\n",
    "            caps.append(sum(map(str.isupper, alph)) / len(alph))\n",
    "        \n",
    "    num_sent = []\n",
    "    for i in data.index:\n",
    "        num_sent.append(len(data['review'][i].split('.')))\n",
    "        \n",
    "    data['length'] = length\n",
    "    data['numbers'] = numbers\n",
    "    data['caps'] = caps\n",
    "    data['num_sent'] = num_sent\n",
    "        \n",
    "#   #avg word length \n",
    "    data['avg_words'] = pd.Series()\n",
    "    for i in data.index:\n",
    "        words = data['review'][i].split(' ')\n",
    "        if len(words) == 0:\n",
    "            data['avg_words'][i] = 0\n",
    "        else:\n",
    "            data['avg_words'][i] = sum(len(word) for word in words) / len(words)\n",
    "\n",
    "        #add percents of POS\n",
    "        \n",
    "    \n",
    "    #percent of total user reviews written by the user\n",
    "    data['perc_tot_user_reviews']=data.groupby('user_id')['user_id'].transform('count')/data.shape[0]\n"
   ]
  },
  {
   "cell_type": "code",
   "execution_count": 9,
   "metadata": {},
   "outputs": [],
   "source": [
    "#dates\n",
    "def addDateInfo(data):\n",
    "    data['my_dates'] = pd.to_datetime(data['date'])\n",
    "    data['day_of_week'] = data['my_dates'].dt.day_name()\n",
    "    data['month'] = data['my_dates'].dt.month\n",
    "    data['year'] = data['my_dates'].dt.year\n",
    "    data['week_day'] =data['my_dates'].dt.weekday"
   ]
  },
  {
   "cell_type": "code",
   "execution_count": 10,
   "metadata": {},
   "outputs": [
    {
     "data": {
      "text/plain": [
       "[('The', 'DT'),\n",
       " ('food', 'NN'),\n",
       " ('at', 'IN'),\n",
       " ('snack', 'NN'),\n",
       " ('is', 'VBZ'),\n",
       " ('a', 'DT'),\n",
       " ('selection', 'NN'),\n",
       " ('of', 'IN'),\n",
       " ('popular', 'JJ'),\n",
       " ('Greek', 'NNP'),\n",
       " ('dishes.', 'NN'),\n",
       " ('The', 'DT'),\n",
       " ('appetizer', 'NN'),\n",
       " ('tray', 'NN'),\n",
       " ('is', 'VBZ'),\n",
       " ('good', 'JJ'),\n",
       " ('as', 'IN'),\n",
       " ('is', 'VBZ'),\n",
       " ('the', 'DT'),\n",
       " ('Greek', 'JJ'),\n",
       " ('salad.', 'NN'),\n",
       " ('We', 'PRP'),\n",
       " ('were', 'VBD'),\n",
       " ('underwhelmed', 'VBN'),\n",
       " ('with', 'IN'),\n",
       " ('the', 'DT'),\n",
       " ('main', 'JJ'),\n",
       " ('courses.', 'NN'),\n",
       " ('There', 'EX'),\n",
       " ('are', 'VBP'),\n",
       " ('4-5', 'JJ'),\n",
       " ('tables', 'NNS'),\n",
       " ('here', 'RB'),\n",
       " ('so', 'RB'),\n",
       " (\"it's\", 'JJ'),\n",
       " ('sometimes', 'RB'),\n",
       " ('hard', 'RB'),\n",
       " ('to', 'TO'),\n",
       " ('get', 'VB'),\n",
       " ('seated.', 'JJ')]"
      ]
     },
     "execution_count": 10,
     "metadata": {},
     "output_type": "execute_result"
    }
   ],
   "source": [
    "#POS tagging - To Do\n",
    "nltk.pos_tag(X_train['review'][0].split(' '))"
   ]
  },
  {
   "cell_type": "code",
   "execution_count": 11,
   "metadata": {},
   "outputs": [
    {
     "name": "stderr",
     "output_type": "stream",
     "text": [
      "[nltk_data] Downloading package punkt to\n",
      "[nltk_data]     /Users/amandarella/nltk_data...\n",
      "[nltk_data]   Unzipping tokenizers/punkt.zip.\n",
      "[nltk_data] Downloading package stopwords to\n",
      "[nltk_data]     /Users/amandarella/nltk_data...\n",
      "[nltk_data]   Unzipping corpora/stopwords.zip.\n"
     ]
    },
    {
     "data": {
      "text/plain": [
       "True"
      ]
     },
     "execution_count": 11,
     "metadata": {},
     "output_type": "execute_result"
    }
   ],
   "source": [
    "# import the necessary libraries \n",
    "import nltk \n",
    "import string \n",
    "import re \n",
    "\n",
    "from nltk.corpus import stopwords\n",
    "from nltk.tokenize import word_tokenize\n",
    "\n",
    "import nltk\n",
    "nltk.download('punkt')\n",
    "\n",
    "import nltk\n",
    "nltk.download('stopwords')"
   ]
  },
  {
   "cell_type": "code",
   "execution_count": 12,
   "metadata": {},
   "outputs": [],
   "source": [
    "def preprocessing(data):\n",
    "    \n",
    "    for i in range(len(data['review'])):\n",
    "        tokens = word_tokenize(data['review'][i])\n",
    "\n",
    "        # convert to lower case\n",
    "        tokens = [w.lower() for w in tokens]\n",
    "\n",
    "        # remove punctuation from each word\n",
    "        table = str.maketrans('', '', string.punctuation)\n",
    "        stripped = [w.translate(table) for w in tokens]\n",
    "\n",
    "        # remove remaining tokens that are not alphabetic\n",
    "        words = [word for word in stripped if word.isalpha()]\n",
    "\n",
    "        # filter out stop words\n",
    "        stop_words = set(stopwords.words('english'))\n",
    "        words = [w for w in words if not w in stop_words]\n",
    "\n",
    "        output = ' '\n",
    "        output = output.join(words)\n",
    "\n",
    "        data['review'][i] = output"
   ]
  },
  {
   "cell_type": "code",
   "execution_count": 13,
   "metadata": {},
   "outputs": [],
   "source": [
    "test = X_train[:15]\n",
    "\n",
    "addDomainFeatures(test)\n",
    "addDateInfo(test)\n",
    "preprocessing(test)"
   ]
  },
  {
   "cell_type": "code",
   "execution_count": 14,
   "metadata": {},
   "outputs": [
    {
     "data": {
      "text/html": [
       "<div>\n",
       "<style scoped>\n",
       "    .dataframe tbody tr th:only-of-type {\n",
       "        vertical-align: middle;\n",
       "    }\n",
       "\n",
       "    .dataframe tbody tr th {\n",
       "        vertical-align: top;\n",
       "    }\n",
       "\n",
       "    .dataframe thead th {\n",
       "        text-align: right;\n",
       "    }\n",
       "</style>\n",
       "<table border=\"1\" class=\"dataframe\">\n",
       "  <thead>\n",
       "    <tr style=\"text-align: right;\">\n",
       "      <th></th>\n",
       "      <th>ex_id</th>\n",
       "      <th>user_id</th>\n",
       "      <th>prod_id</th>\n",
       "      <th>rating</th>\n",
       "      <th>date</th>\n",
       "      <th>review</th>\n",
       "      <th>length</th>\n",
       "      <th>numbers</th>\n",
       "      <th>caps</th>\n",
       "      <th>num_sent</th>\n",
       "      <th>avg_words</th>\n",
       "      <th>perc_tot_user_reviews</th>\n",
       "      <th>my_dates</th>\n",
       "      <th>day_of_week</th>\n",
       "      <th>month</th>\n",
       "      <th>year</th>\n",
       "      <th>week_day</th>\n",
       "    </tr>\n",
       "  </thead>\n",
       "  <tbody>\n",
       "    <tr>\n",
       "      <th>0</th>\n",
       "      <td>0</td>\n",
       "      <td>923</td>\n",
       "      <td>0</td>\n",
       "      <td>3.0</td>\n",
       "      <td>2014-12-08</td>\n",
       "      <td>food snack selection popular greek dishes appe...</td>\n",
       "      <td>40</td>\n",
       "      <td>1.0</td>\n",
       "      <td>0.035714</td>\n",
       "      <td>5</td>\n",
       "      <td>4.400000</td>\n",
       "      <td>0.066667</td>\n",
       "      <td>2014-12-08</td>\n",
       "      <td>Monday</td>\n",
       "      <td>12</td>\n",
       "      <td>2014</td>\n",
       "      <td>0</td>\n",
       "    </tr>\n",
       "    <tr>\n",
       "      <th>1</th>\n",
       "      <td>1</td>\n",
       "      <td>924</td>\n",
       "      <td>0</td>\n",
       "      <td>3.0</td>\n",
       "      <td>2013-05-16</td>\n",
       "      <td>little place soho wonderful lamb sandwich glas...</td>\n",
       "      <td>52</td>\n",
       "      <td>0.0</td>\n",
       "      <td>0.028846</td>\n",
       "      <td>5</td>\n",
       "      <td>4.192308</td>\n",
       "      <td>0.066667</td>\n",
       "      <td>2013-05-16</td>\n",
       "      <td>Thursday</td>\n",
       "      <td>5</td>\n",
       "      <td>2013</td>\n",
       "      <td>3</td>\n",
       "    </tr>\n",
       "    <tr>\n",
       "      <th>2</th>\n",
       "      <td>2</td>\n",
       "      <td>925</td>\n",
       "      <td>0</td>\n",
       "      <td>4.0</td>\n",
       "      <td>2013-07-01</td>\n",
       "      <td>ordered lunch snack last friday time nothing m...</td>\n",
       "      <td>32</td>\n",
       "      <td>1.0</td>\n",
       "      <td>0.028986</td>\n",
       "      <td>4</td>\n",
       "      <td>4.593750</td>\n",
       "      <td>0.066667</td>\n",
       "      <td>2013-07-01</td>\n",
       "      <td>Monday</td>\n",
       "      <td>7</td>\n",
       "      <td>2013</td>\n",
       "      <td>0</td>\n",
       "    </tr>\n",
       "    <tr>\n",
       "      <th>3</th>\n",
       "      <td>3</td>\n",
       "      <td>926</td>\n",
       "      <td>0</td>\n",
       "      <td>4.0</td>\n",
       "      <td>2011-07-28</td>\n",
       "      <td>beautiful quaint little restaurant pretty stre...</td>\n",
       "      <td>90</td>\n",
       "      <td>0.0</td>\n",
       "      <td>0.020725</td>\n",
       "      <td>8</td>\n",
       "      <td>4.466667</td>\n",
       "      <td>0.066667</td>\n",
       "      <td>2011-07-28</td>\n",
       "      <td>Thursday</td>\n",
       "      <td>7</td>\n",
       "      <td>2011</td>\n",
       "      <td>3</td>\n",
       "    </tr>\n",
       "    <tr>\n",
       "      <th>4</th>\n",
       "      <td>4</td>\n",
       "      <td>927</td>\n",
       "      <td>0</td>\n",
       "      <td>4.0</td>\n",
       "      <td>2010-11-01</td>\n",
       "      <td>snack great place casual sit lunch especially ...</td>\n",
       "      <td>102</td>\n",
       "      <td>0.0</td>\n",
       "      <td>0.021186</td>\n",
       "      <td>13</td>\n",
       "      <td>4.852941</td>\n",
       "      <td>0.066667</td>\n",
       "      <td>2010-11-01</td>\n",
       "      <td>Monday</td>\n",
       "      <td>11</td>\n",
       "      <td>2010</td>\n",
       "      <td>0</td>\n",
       "    </tr>\n",
       "  </tbody>\n",
       "</table>\n",
       "</div>"
      ],
      "text/plain": [
       "   ex_id  user_id  prod_id  rating        date  \\\n",
       "0      0      923        0     3.0  2014-12-08   \n",
       "1      1      924        0     3.0  2013-05-16   \n",
       "2      2      925        0     4.0  2013-07-01   \n",
       "3      3      926        0     4.0  2011-07-28   \n",
       "4      4      927        0     4.0  2010-11-01   \n",
       "\n",
       "                                              review  length  numbers  \\\n",
       "0  food snack selection popular greek dishes appe...      40      1.0   \n",
       "1  little place soho wonderful lamb sandwich glas...      52      0.0   \n",
       "2  ordered lunch snack last friday time nothing m...      32      1.0   \n",
       "3  beautiful quaint little restaurant pretty stre...      90      0.0   \n",
       "4  snack great place casual sit lunch especially ...     102      0.0   \n",
       "\n",
       "       caps  num_sent  avg_words  perc_tot_user_reviews   my_dates  \\\n",
       "0  0.035714         5   4.400000               0.066667 2014-12-08   \n",
       "1  0.028846         5   4.192308               0.066667 2013-05-16   \n",
       "2  0.028986         4   4.593750               0.066667 2013-07-01   \n",
       "3  0.020725         8   4.466667               0.066667 2011-07-28   \n",
       "4  0.021186        13   4.852941               0.066667 2010-11-01   \n",
       "\n",
       "  day_of_week  month  year  week_day  \n",
       "0      Monday     12  2014         0  \n",
       "1    Thursday      5  2013         3  \n",
       "2      Monday      7  2013         0  \n",
       "3    Thursday      7  2011         3  \n",
       "4      Monday     11  2010         0  "
      ]
     },
     "execution_count": 14,
     "metadata": {},
     "output_type": "execute_result"
    }
   ],
   "source": [
    "test.head()"
   ]
  },
  {
   "cell_type": "markdown",
   "metadata": {},
   "source": [
    "### Feature Extraction\n",
    "\n",
    "We have used unigram presence, unigram frequency, bigram presence, bigram frequency and review\n",
    "length as features for our model. (http://www.ijceronline.com/papers/Vol5_issue5/J055052056.pdf)\n",
    "\n",
    "We can test which works best:\n",
    "\n",
    "- Count Vectorizer\n",
    "\n",
    "Counts number of occurance of each words in vocabulary base. Transforms each review into a feature with vocabulary base. Now we can use any ML model we want. \n",
    "\n",
    "Cons: only the occurance of the words not the meaning is taken into consideration aka order ignorant. \n",
    "\n",
    "- Tfidf\n",
    "\n",
    "- Word2Vec"
   ]
  },
  {
   "cell_type": "code",
   "execution_count": 15,
   "metadata": {},
   "outputs": [],
   "source": [
    "#test = test.dropna"
   ]
  },
  {
   "cell_type": "code",
   "execution_count": 16,
   "metadata": {},
   "outputs": [],
   "source": [
    "from sklearn.feature_extraction.text import CountVectorizer, TfidfVectorizer "
   ]
  },
  {
   "cell_type": "markdown",
   "metadata": {},
   "source": [
    "***Count Vectorizer***"
   ]
  },
  {
   "cell_type": "code",
   "execution_count": 17,
   "metadata": {},
   "outputs": [
    {
     "data": {
      "text/plain": [
       "['able',\n",
       " 'able stand',\n",
       " 'absolutely',\n",
       " 'absolutely loved',\n",
       " 'actually',\n",
       " 'actually fit',\n",
       " 'added',\n",
       " 'added regular',\n",
       " 'albeit',\n",
       " 'albeit tiny']"
      ]
     },
     "execution_count": 17,
     "metadata": {},
     "output_type": "execute_result"
    }
   ],
   "source": [
    "#CountVectorizer\n",
    "binary_vectorizer = CountVectorizer(binary=True, ngram_range=(1, 2), stop_words='english')\n",
    "binary_vectorizer.fit(test['review'])\n",
    "list(binary_vectorizer.vocabulary_.keys())[0:10]\n",
    "binary_vectorizer.get_feature_names()[0:10]"
   ]
  },
  {
   "cell_type": "code",
   "execution_count": 18,
   "metadata": {},
   "outputs": [],
   "source": [
    "X_train_binary = binary_vectorizer.transform(test['review'])"
   ]
  },
  {
   "cell_type": "code",
   "execution_count": 19,
   "metadata": {},
   "outputs": [
    {
     "data": {
      "text/plain": [
       "<15x603 sparse matrix of type '<class 'numpy.int64'>'\n",
       "\twith 725 stored elements in Compressed Sparse Row format>"
      ]
     },
     "execution_count": 19,
     "metadata": {},
     "output_type": "execute_result"
    }
   ],
   "source": [
    "X_train_binary"
   ]
  },
  {
   "cell_type": "markdown",
   "metadata": {},
   "source": [
    "***TFIDF Vectorizer***"
   ]
  },
  {
   "cell_type": "code",
   "execution_count": 20,
   "metadata": {},
   "outputs": [],
   "source": [
    "#TfidfVectorizer\n",
    "binary_Tfidf_vectorizer = TfidfVectorizer(binary=True, ngram_range=(1, 2), stop_words='english')\n",
    "binary_Tfidf_vectorizer.fit(test['review'])\n",
    "list(binary_Tfidf_vectorizer.vocabulary_.keys())[0:10]\n",
    "binary_Tfidf_vectorizer.get_feature_names()[0:10]\n",
    "\n",
    "#stores data in sparse matrix\n",
    "X_train_binary_Tfidf = binary_Tfidf_vectorizer.transform(test['review'])"
   ]
  },
  {
   "cell_type": "code",
   "execution_count": 21,
   "metadata": {},
   "outputs": [
    {
     "data": {
      "text/plain": [
       "<15x603 sparse matrix of type '<class 'numpy.float64'>'\n",
       "\twith 725 stored elements in Compressed Sparse Row format>"
      ]
     },
     "execution_count": 21,
     "metadata": {},
     "output_type": "execute_result"
    }
   ],
   "source": [
    "X_train_binary_Tfidf"
   ]
  },
  {
   "cell_type": "markdown",
   "metadata": {},
   "source": [
    "***Word2Vec***"
   ]
  },
  {
   "cell_type": "code",
   "execution_count": 32,
   "metadata": {},
   "outputs": [],
   "source": [
    "#word2vec\n",
    "from gensim.models import Word2Vec"
   ]
  },
  {
   "cell_type": "markdown",
   "metadata": {},
   "source": [
    "Word2Vec learns word embedding from a text corpus through continuous bag of words (CBOW) and skip grams, which look at a window of words for each target word to provide context and word meanings. The general idea is that words that occur in a smiliar context tend to be closer to each other in vector space.  \n",
    "\n",
    "List of all hyperparams here: https://radimrehurek.com/gensim/models/word2vec.html\n",
    "\n",
    "Interested in modifying hyperparams `size`, `window`, `min_count`, `sg`.\n",
    "\n",
    "`size`: (default 100) The number of dimensions of the embedding, e.g. the length of the dense vector to represent each token (word).\n",
    "\n",
    "`window`: (default 5) The maximum distance between a target word and words around the target word.\n",
    "\n",
    "`min_count`: (default 5) The minimum count of words to consider when training the model; words with an occurrence less than this count will be ignored.\n",
    "\n",
    "`sg`: (default 0 or CBOW) The training algorithm, either CBOW (0) or skip gram (1).\n",
    "\n",
    "References: https://machinelearningmastery.com/develop-word-embeddings-python-gensim/\n",
    "\n",
    "https://towardsdatascience.com/a-beginners-guide-to-word-embedding-with-gensim-word2vec-model-5970fa56cc92\n",
    "\n",
    "https://towardsdatascience.com/understanding-feature-engineering-part-4-deep-learning-methods-for-text-data-96c44370bbfa"
   ]
  },
  {
   "cell_type": "code",
   "execution_count": 38,
   "metadata": {},
   "outputs": [],
   "source": [
    "test = train.copy()\n",
    "test = test[:1000]"
   ]
  },
  {
   "cell_type": "code",
   "execution_count": 39,
   "metadata": {},
   "outputs": [],
   "source": [
    "addDomainFeatures(test)\n",
    "addDateInfo(test)"
   ]
  },
  {
   "cell_type": "code",
   "execution_count": 40,
   "metadata": {},
   "outputs": [],
   "source": [
    "preprocessing(test)"
   ]
  },
  {
   "cell_type": "code",
   "execution_count": 41,
   "metadata": {},
   "outputs": [],
   "source": [
    "#word2vec requires inputs as tokenized list of lists\n",
    "test['tokens'] = pd.Series()\n",
    "for i in range(len(test['review'])):\n",
    "    test['tokens'][i] = word_tokenize(test['review'][i])"
   ]
  },
  {
   "cell_type": "code",
   "execution_count": 43,
   "metadata": {},
   "outputs": [],
   "source": [
    "#learning word embedding from text \n",
    "wv_model = Word2Vec(test['tokens'],min_count = 10, size = 50)\n",
    "#learned vocab of tokens\n",
    "words = list(wv_model.wv.vocab)"
   ]
  },
  {
   "cell_type": "code",
   "execution_count": 44,
   "metadata": {},
   "outputs": [
    {
     "name": "stdout",
     "output_type": "stream",
     "text": [
      "[ 0.08604642  0.42346594  0.38753873  0.05058278 -0.00174682  0.03346436\n",
      "  0.76314217  0.6844368   0.27882996  0.14447914  0.3711477  -0.4856512\n",
      "  0.10023417 -0.39938602  0.30733776 -0.2130843  -0.03218086  0.22528583\n",
      "  0.0944503  -0.38931674 -0.08873706  0.34041122 -0.3947757  -0.12229966\n",
      " -0.3720495  -0.11115839  0.04585083  0.44102687  0.32554582  0.07088951\n",
      "  1.2496202  -0.62080073 -0.57365024 -0.16272712 -0.07365628 -0.41490406\n",
      "  0.1092962  -0.05971795  0.06600381  0.06368975  0.17744622 -0.36115986\n",
      " -0.13802515  0.81663    -0.1930408   0.5000052   0.27150255 -0.8639264\n",
      " -0.25772396  0.0016075 ]\n"
     ]
    }
   ],
   "source": [
    "#view embedded vector\n",
    "print(wv_model['food'])"
   ]
  },
  {
   "cell_type": "code",
   "execution_count": 45,
   "metadata": {},
   "outputs": [
    {
     "data": {
      "text/plain": [
       "{'food': ['nice', 'absolutely', 'friends', 'service', 'menu'],\n",
       " 'snack': ['two', 'ever', 'also', 'dish', 'friends'],\n",
       " 'little': ['perfect', 'special', 'one', 'well', 'two'],\n",
       " 'good': ['dish', 'kind', 'ordered', 'two', 'people']}"
      ]
     },
     "execution_count": 45,
     "metadata": {},
     "output_type": "execute_result"
    }
   ],
   "source": [
    "#check similar words\n",
    "similar_words = {search_term: [item[0] for item in wv_model.wv.most_similar([search_term], topn=5)]\n",
    "                  for search_term in ['food', 'snack', 'little', 'good']}\n",
    "similar_words"
   ]
  },
  {
   "cell_type": "code",
   "execution_count": 46,
   "metadata": {},
   "outputs": [
    {
     "data": {
      "text/plain": [
       "0.9997835"
      ]
     },
     "execution_count": 46,
     "metadata": {},
     "output_type": "execute_result"
    }
   ],
   "source": [
    "#compute similarity scores\n",
    "wv_model.similarity('snack','lunch')"
   ]
  },
  {
   "cell_type": "code",
   "execution_count": 47,
   "metadata": {},
   "outputs": [],
   "source": [
    "sim_words =wv_model.most_similar(['bad'],topn=10)"
   ]
  },
  {
   "cell_type": "code",
   "execution_count": 48,
   "metadata": {},
   "outputs": [
    {
     "data": {
      "text/plain": [
       "[('place', 0.9997552037239075),\n",
       " ('nice', 0.9997473359107971),\n",
       " ('like', 0.9997360706329346),\n",
       " ('people', 0.9997337460517883),\n",
       " ('try', 0.9997329711914062),\n",
       " ('could', 0.9997309446334839),\n",
       " ('take', 0.9997307062149048),\n",
       " ('coffee', 0.999727725982666),\n",
       " ('pie', 0.9997273087501526),\n",
       " ('make', 0.9997215270996094)]"
      ]
     },
     "execution_count": 48,
     "metadata": {},
     "output_type": "execute_result"
    }
   ],
   "source": [
    "sim_words"
   ]
  },
  {
   "cell_type": "code",
   "execution_count": 49,
   "metadata": {},
   "outputs": [],
   "source": [
    "sim_words =wv_model.most_similar(['good'],topn=10)"
   ]
  },
  {
   "cell_type": "code",
   "execution_count": 50,
   "metadata": {},
   "outputs": [
    {
     "data": {
      "text/plain": [
       "[('dish', 0.9998297691345215),\n",
       " ('kind', 0.9998273849487305),\n",
       " ('ordered', 0.999820351600647),\n",
       " ('two', 0.9998140335083008),\n",
       " ('people', 0.9998075366020203),\n",
       " ('could', 0.9998072981834412),\n",
       " ('got', 0.9998008012771606),\n",
       " ('tiny', 0.9997997879981995),\n",
       " ('pie', 0.9997982382774353),\n",
       " ('bit', 0.9997922778129578)]"
      ]
     },
     "execution_count": 50,
     "metadata": {},
     "output_type": "execute_result"
    }
   ],
   "source": [
    "sim_words"
   ]
  },
  {
   "cell_type": "code",
   "execution_count": 51,
   "metadata": {},
   "outputs": [],
   "source": [
    "check = wv_model[wv_model.wv.vocab]"
   ]
  },
  {
   "cell_type": "code",
   "execution_count": 52,
   "metadata": {},
   "outputs": [],
   "source": [
    "from sklearn.manifold import TSNE\n",
    "words = wv_model.wv.index2word\n",
    "wvs = wv_model.wv[words]"
   ]
  },
  {
   "cell_type": "code",
   "execution_count": 55,
   "metadata": {},
   "outputs": [
    {
     "data": {
      "image/png": "[encoded data removed]",
      "text/plain": [
       "<Figure size 864x432 with 1 Axes>"
      ]
     },
     "metadata": {
      "needs_background": "light"
     },
     "output_type": "display_data"
    }
   ],
   "source": [
    "tsne = TSNE(n_components=2, random_state=0, n_iter=5000, perplexity=2)\n",
    "np.set_printoptions(suppress=True)\n",
    "T = tsne.fit_transform(wvs)\n",
    "labels = words\n",
    "\n",
    "plt.figure(figsize=(12, 6))\n",
    "plt.scatter(T[:, 0], T[:, 1], c='orange', edgecolors='r')\n",
    "for label, x, y in zip(labels, T[:, 0], T[:, 1]):\n",
    "    plt.annotate(label, xy=(x+1, y+1), xytext=(0, 0), textcoords='offset points')"
   ]
  },
  {
   "cell_type": "code",
   "execution_count": 79,
   "metadata": {},
   "outputs": [],
   "source": [
    "vocabulary = set(wv_model.wv.index2word)"
   ]
  },
  {
   "cell_type": "code",
   "execution_count": 80,
   "metadata": {},
   "outputs": [
    {
     "data": {
      "text/plain": [
       "array([0., 0., 0., 0., 0., 0., 0., 0., 0., 0., 0., 0., 0., 0., 0., 0., 0.,\n",
       "       0., 0., 0., 0., 0., 0., 0., 0., 0., 0., 0., 0., 0., 0., 0., 0., 0.,\n",
       "       0., 0., 0., 0., 0., 0., 0., 0., 0., 0., 0., 0., 0., 0., 0., 0.])"
      ]
     },
     "execution_count": 80,
     "metadata": {},
     "output_type": "execute_result"
    }
   ],
   "source": [
    "feature_vector = np.zeros((50,),dtype = 'float64')\n",
    "feature_vector"
   ]
  },
  {
   "cell_type": "code",
   "execution_count": 81,
   "metadata": {},
   "outputs": [],
   "source": [
    "nwords = 0"
   ]
  },
  {
   "cell_type": "code",
   "execution_count": 82,
   "metadata": {},
   "outputs": [],
   "source": [
    "for word in test['tokens'][0]:\n",
    "    if word in vocabulary: \n",
    "        nwords = nwords + 1.\n",
    "        feature_vector = np.add(feature_vector, wv_model[word])\n",
    "    if nwords:\n",
    "        feature_vector = np.divide(feature_vector, nwords)"
   ]
  },
  {
   "cell_type": "code",
   "execution_count": 83,
   "metadata": {},
   "outputs": [
    {
     "data": {
      "text/plain": [
       "14.0"
      ]
     },
     "execution_count": 83,
     "metadata": {},
     "output_type": "execute_result"
    }
   ],
   "source": [
    "nwords"
   ]
  },
  {
   "cell_type": "code",
   "execution_count": 85,
   "metadata": {},
   "outputs": [
    {
     "data": {
      "text/plain": [
       "array([ 0.00680978,  0.02863142,  0.02491234,  0.00300421,  0.00101976,\n",
       "        0.00211124,  0.0513501 ,  0.04621936,  0.01865436,  0.00919763,\n",
       "        0.02511934, -0.03141848,  0.0071174 , -0.02589453,  0.02085421,\n",
       "       -0.01495621, -0.00172724,  0.01561895,  0.00686798, -0.02602628,\n",
       "       -0.005164  ,  0.02208979, -0.02523949, -0.00676602, -0.02396501,\n",
       "       -0.00712511,  0.00210348,  0.02943241,  0.02243502,  0.00501023,\n",
       "        0.0819443 , -0.04032518, -0.03715954, -0.01072347, -0.00392682,\n",
       "       -0.02875105,  0.00780732, -0.00368257,  0.0044252 ,  0.00289896,\n",
       "        0.00992622, -0.02285132, -0.00904233,  0.05307459, -0.01250566,\n",
       "        0.0324889 ,  0.01942114, -0.05803864, -0.01804691, -0.00077247])"
      ]
     },
     "execution_count": 85,
     "metadata": {},
     "output_type": "execute_result"
    }
   ],
   "source": [
    "feature_vector"
   ]
  },
  {
   "cell_type": "code",
   "execution_count": 86,
   "metadata": {},
   "outputs": [
    {
     "data": {
      "text/plain": [
       "50"
      ]
     },
     "execution_count": 86,
     "metadata": {},
     "output_type": "execute_result"
    }
   ],
   "source": [
    "len(feature_vector)"
   ]
  },
  {
   "cell_type": "code",
   "execution_count": null,
   "metadata": {},
   "outputs": [],
   "source": [
    "def average_word_vectors(words, model, vocabulary, num_features):\n",
    "    \n",
    "    feature_vector = np.zeros((num_features,),dtype=\"float64\")\n",
    "    nwords = 0.\n",
    "    \n",
    "    for word in words:\n",
    "        if word in vocabulary: \n",
    "            nwords = nwords + 1.\n",
    "            feature_vector = np.add(feature_vector, model[word])\n",
    "    \n",
    "    if nwords:\n",
    "        feature_vector = np.divide(feature_vector, nwords)\n",
    "        \n",
    "    return feature_vector\n",
    "    \n",
    "   \n",
    "def averaged_word_vectorizer(corpus, model, num_features):\n",
    "    vocabulary = set(model.wv.index2word)\n",
    "    features = [average_word_vectors(tokenized_sentence, model, vocabulary, num_features)\n",
    "                    for tokenized_sentence in corpus]\n",
    "    return np.array(features)\n",
    "\n",
    "\n",
    "# get document level embeddings\n",
    "w2v_feature_array = averaged_word_vectorizer(corpus=tokenized_corpus, model=w2v_model,\n",
    "                                             num_features=feature_size)\n",
    "pd.DataFrame(w2v_feature_array)"
   ]
  },
  {
   "cell_type": "code",
   "execution_count": null,
   "metadata": {},
   "outputs": [],
   "source": []
  },
  {
   "cell_type": "code",
   "execution_count": null,
   "metadata": {},
   "outputs": [],
   "source": []
  },
  {
   "cell_type": "code",
   "execution_count": null,
   "metadata": {},
   "outputs": [],
   "source": []
  },
  {
   "cell_type": "code",
   "execution_count": null,
   "metadata": {},
   "outputs": [],
   "source": []
  },
  {
   "cell_type": "code",
   "execution_count": 465,
   "metadata": {},
   "outputs": [],
   "source": [
    "vocabulary = set(wv_model.wv.index2word)"
   ]
  },
  {
   "cell_type": "code",
   "execution_count": 467,
   "metadata": {},
   "outputs": [
    {
     "data": {
      "text/plain": [
       "7493"
      ]
     },
     "execution_count": 467,
     "metadata": {},
     "output_type": "execute_result"
    }
   ],
   "source": [
    "len(vocabulary)"
   ]
  },
  {
   "cell_type": "code",
   "execution_count": null,
   "metadata": {},
   "outputs": [],
   "source": []
  },
  {
   "cell_type": "code",
   "execution_count": null,
   "metadata": {},
   "outputs": [],
   "source": []
  },
  {
   "cell_type": "code",
   "execution_count": null,
   "metadata": {},
   "outputs": [],
   "source": []
  },
  {
   "cell_type": "code",
   "execution_count": 326,
   "metadata": {},
   "outputs": [],
   "source": [
    "from sklearn.decomposition import PCA\n",
    "pca = PCA(n_components=2)\n",
    "result = pca.fit_transform(check)"
   ]
  },
  {
   "cell_type": "code",
   "execution_count": 331,
   "metadata": {},
   "outputs": [
    {
     "data": {
      "image/png": "[encoded data removed]",
      "text/plain": [
       "<Figure size 432x288 with 1 Axes>"
      ]
     },
     "metadata": {
      "needs_background": "light"
     },
     "output_type": "display_data"
    }
   ],
   "source": [
    "#visualize word vectors\n",
    "import matplotlib.pyplot as plt\n",
    "plt.scatter(result[:, 0], result[:, 1])\n",
    "words = list(model.wv.vocab)\n",
    "for i, word in enumerate(words):\n",
    "    plt.annotate(word, xy=(result[i, 0], result[i, 1]))\n",
    "    words = list(model.wv.vocab)"
   ]
  },
  {
   "cell_type": "markdown",
   "metadata": {},
   "source": [
    "TSNE - t-distributed stocastic neighbor embedding, a popular dimensionality reduction technique to visualize higher dimension spaces in lower dimensions"
   ]
  },
  {
   "cell_type": "code",
   "execution_count": null,
   "metadata": {},
   "outputs": [],
   "source": []
  },
  {
   "cell_type": "markdown",
   "metadata": {},
   "source": [
    "### Creating training dataset"
   ]
  },
  {
   "cell_type": "code",
   "execution_count": 208,
   "metadata": {},
   "outputs": [],
   "source": [
    "from scipy import sparse"
   ]
  },
  {
   "cell_type": "code",
   "execution_count": 209,
   "metadata": {},
   "outputs": [
    {
     "data": {
      "text/plain": [
       "Index(['ex_id', 'user_id', 'prod_id', 'rating', 'date', 'review', 'length',\n",
       "       'numbers', 'caps', 'num_sent', 'avg_words', 'perc_tot_user_reviews',\n",
       "       'my_dates', 'day_of_week', 'month', 'year', 'week_day'],\n",
       "      dtype='object')"
      ]
     },
     "execution_count": 209,
     "metadata": {},
     "output_type": "execute_result"
    }
   ],
   "source": [
    "test.columns"
   ]
  },
  {
   "cell_type": "code",
   "execution_count": 210,
   "metadata": {},
   "outputs": [],
   "source": [
    "#create training data with old features and new features\n",
    "num_feats = test[['user_id', 'rating', 'length', 'numbers', \n",
    "                  'caps', 'num_sent','avg_words','perc_tot_user_reviews']].values\n",
    "\n",
    "training_data = sparse.hstack((X_train_binary_Tfidf, num_feats))"
   ]
  },
  {
   "cell_type": "code",
   "execution_count": null,
   "metadata": {},
   "outputs": [],
   "source": []
  },
  {
   "cell_type": "markdown",
   "metadata": {},
   "source": [
    "### Visulizations\n",
    "Usually the length of fake review will be on the lesser side because of the following reasons:\n",
    "- Reviewer will not have much knowledge about the product/business.\n",
    "- Reviewer tries to achieve the objective with as few words as possible."
   ]
  },
  {
   "cell_type": "code",
   "execution_count": 211,
   "metadata": {},
   "outputs": [],
   "source": [
    "import matplotlib.pyplot as plt"
   ]
  },
  {
   "cell_type": "code",
   "execution_count": 212,
   "metadata": {},
   "outputs": [],
   "source": [
    "import seaborn as sns"
   ]
  },
  {
   "cell_type": "code",
   "execution_count": 213,
   "metadata": {},
   "outputs": [],
   "source": [
    "testing = train.copy()"
   ]
  },
  {
   "cell_type": "code",
   "execution_count": 214,
   "metadata": {},
   "outputs": [],
   "source": [
    "addDomainFeatures(testing)"
   ]
  },
  {
   "cell_type": "code",
   "execution_count": 215,
   "metadata": {},
   "outputs": [],
   "source": [
    "addDateInfo(testing)"
   ]
  },
  {
   "cell_type": "code",
   "execution_count": 216,
   "metadata": {},
   "outputs": [
    {
     "data": {
      "text/html": [
       "<div>\n",
       "<style scoped>\n",
       "    .dataframe tbody tr th:only-of-type {\n",
       "        vertical-align: middle;\n",
       "    }\n",
       "\n",
       "    .dataframe tbody tr th {\n",
       "        vertical-align: top;\n",
       "    }\n",
       "\n",
       "    .dataframe thead th {\n",
       "        text-align: right;\n",
       "    }\n",
       "</style>\n",
       "<table border=\"1\" class=\"dataframe\">\n",
       "  <thead>\n",
       "    <tr style=\"text-align: right;\">\n",
       "      <th></th>\n",
       "      <th>ex_id</th>\n",
       "      <th>user_id</th>\n",
       "      <th>prod_id</th>\n",
       "      <th>rating</th>\n",
       "      <th>label</th>\n",
       "      <th>date</th>\n",
       "      <th>review</th>\n",
       "      <th>length</th>\n",
       "      <th>numbers</th>\n",
       "      <th>caps</th>\n",
       "      <th>num_sent</th>\n",
       "      <th>avg_words</th>\n",
       "      <th>perc_tot_user_reviews</th>\n",
       "      <th>my_dates</th>\n",
       "      <th>day_of_week</th>\n",
       "      <th>month</th>\n",
       "      <th>year</th>\n",
       "      <th>week_day</th>\n",
       "    </tr>\n",
       "  </thead>\n",
       "  <tbody>\n",
       "    <tr>\n",
       "      <td>0</td>\n",
       "      <td>0</td>\n",
       "      <td>923</td>\n",
       "      <td>0</td>\n",
       "      <td>3.0</td>\n",
       "      <td>1</td>\n",
       "      <td>2014-12-08</td>\n",
       "      <td>The food at snack is a selection of popular Gr...</td>\n",
       "      <td>40</td>\n",
       "      <td>1.0</td>\n",
       "      <td>0.035714</td>\n",
       "      <td>5</td>\n",
       "      <td>4.400000</td>\n",
       "      <td>0.000104</td>\n",
       "      <td>2014-12-08</td>\n",
       "      <td>Monday</td>\n",
       "      <td>12</td>\n",
       "      <td>2014</td>\n",
       "      <td>0</td>\n",
       "    </tr>\n",
       "    <tr>\n",
       "      <td>1</td>\n",
       "      <td>1</td>\n",
       "      <td>924</td>\n",
       "      <td>0</td>\n",
       "      <td>3.0</td>\n",
       "      <td>1</td>\n",
       "      <td>2013-05-16</td>\n",
       "      <td>This little place in Soho is wonderful. I had ...</td>\n",
       "      <td>52</td>\n",
       "      <td>0.0</td>\n",
       "      <td>0.028846</td>\n",
       "      <td>5</td>\n",
       "      <td>4.192308</td>\n",
       "      <td>0.000004</td>\n",
       "      <td>2013-05-16</td>\n",
       "      <td>Thursday</td>\n",
       "      <td>5</td>\n",
       "      <td>2013</td>\n",
       "      <td>3</td>\n",
       "    </tr>\n",
       "    <tr>\n",
       "      <td>2</td>\n",
       "      <td>2</td>\n",
       "      <td>925</td>\n",
       "      <td>0</td>\n",
       "      <td>4.0</td>\n",
       "      <td>1</td>\n",
       "      <td>2013-07-01</td>\n",
       "      <td>ordered lunch for 15 from Snack last Friday.  ...</td>\n",
       "      <td>32</td>\n",
       "      <td>1.0</td>\n",
       "      <td>0.028986</td>\n",
       "      <td>4</td>\n",
       "      <td>4.593750</td>\n",
       "      <td>0.000008</td>\n",
       "      <td>2013-07-01</td>\n",
       "      <td>Monday</td>\n",
       "      <td>7</td>\n",
       "      <td>2013</td>\n",
       "      <td>0</td>\n",
       "    </tr>\n",
       "    <tr>\n",
       "      <td>3</td>\n",
       "      <td>3</td>\n",
       "      <td>926</td>\n",
       "      <td>0</td>\n",
       "      <td>4.0</td>\n",
       "      <td>1</td>\n",
       "      <td>2011-07-28</td>\n",
       "      <td>This is a beautiful quaint little restaurant o...</td>\n",
       "      <td>90</td>\n",
       "      <td>0.0</td>\n",
       "      <td>0.020725</td>\n",
       "      <td>8</td>\n",
       "      <td>4.466667</td>\n",
       "      <td>0.000004</td>\n",
       "      <td>2011-07-28</td>\n",
       "      <td>Thursday</td>\n",
       "      <td>7</td>\n",
       "      <td>2011</td>\n",
       "      <td>3</td>\n",
       "    </tr>\n",
       "    <tr>\n",
       "      <td>4</td>\n",
       "      <td>4</td>\n",
       "      <td>927</td>\n",
       "      <td>0</td>\n",
       "      <td>4.0</td>\n",
       "      <td>1</td>\n",
       "      <td>2010-11-01</td>\n",
       "      <td>Snack is great place for a  casual sit down lu...</td>\n",
       "      <td>102</td>\n",
       "      <td>0.0</td>\n",
       "      <td>0.021186</td>\n",
       "      <td>13</td>\n",
       "      <td>4.852941</td>\n",
       "      <td>0.000012</td>\n",
       "      <td>2010-11-01</td>\n",
       "      <td>Monday</td>\n",
       "      <td>11</td>\n",
       "      <td>2010</td>\n",
       "      <td>0</td>\n",
       "    </tr>\n",
       "  </tbody>\n",
       "</table>\n",
       "</div>"
      ],
      "text/plain": [
       "   ex_id  user_id  prod_id  rating  label        date  \\\n",
       "0      0      923        0     3.0      1  2014-12-08   \n",
       "1      1      924        0     3.0      1  2013-05-16   \n",
       "2      2      925        0     4.0      1  2013-07-01   \n",
       "3      3      926        0     4.0      1  2011-07-28   \n",
       "4      4      927        0     4.0      1  2010-11-01   \n",
       "\n",
       "                                              review  length  numbers  \\\n",
       "0  The food at snack is a selection of popular Gr...      40      1.0   \n",
       "1  This little place in Soho is wonderful. I had ...      52      0.0   \n",
       "2  ordered lunch for 15 from Snack last Friday.  ...      32      1.0   \n",
       "3  This is a beautiful quaint little restaurant o...      90      0.0   \n",
       "4  Snack is great place for a  casual sit down lu...     102      0.0   \n",
       "\n",
       "       caps  num_sent  avg_words  perc_tot_user_reviews   my_dates  \\\n",
       "0  0.035714         5   4.400000               0.000104 2014-12-08   \n",
       "1  0.028846         5   4.192308               0.000004 2013-05-16   \n",
       "2  0.028986         4   4.593750               0.000008 2013-07-01   \n",
       "3  0.020725         8   4.466667               0.000004 2011-07-28   \n",
       "4  0.021186        13   4.852941               0.000012 2010-11-01   \n",
       "\n",
       "  day_of_week  month  year  week_day  \n",
       "0      Monday     12  2014         0  \n",
       "1    Thursday      5  2013         3  \n",
       "2      Monday      7  2013         0  \n",
       "3    Thursday      7  2011         3  \n",
       "4      Monday     11  2010         0  "
      ]
     },
     "execution_count": 216,
     "metadata": {},
     "output_type": "execute_result"
    }
   ],
   "source": [
    "testing.head()"
   ]
  },
  {
   "cell_type": "code",
   "execution_count": 223,
   "metadata": {},
   "outputs": [
    {
     "data": {
      "image/png": "[encoded data removed]",
      "text/plain": [
       "<Figure size 432x288 with 1 Axes>"
      ]
     },
     "metadata": {
      "needs_background": "light"
     },
     "output_type": "display_data"
    }
   ],
   "source": [
    "ax = sns.barplot(x=\"label\", y=\"length\", data=testing)"
   ]
  },
  {
   "cell_type": "code",
   "execution_count": 224,
   "metadata": {},
   "outputs": [
    {
     "data": {
      "image/png": "[encoded data removed]",
      "text/plain": [
       "<Figure size 432x288 with 1 Axes>"
      ]
     },
     "metadata": {
      "needs_background": "light"
     },
     "output_type": "display_data"
    }
   ],
   "source": [
    "ax = sns.barplot(x=\"rating\", y=\"length\", hue=\"label\", data=testing)"
   ]
  },
  {
   "cell_type": "code",
   "execution_count": 225,
   "metadata": {},
   "outputs": [
    {
     "data": {
      "image/png": "[encoded data removed]",
      "text/plain": [
       "<Figure size 432x288 with 1 Axes>"
      ]
     },
     "metadata": {
      "needs_background": "light"
     },
     "output_type": "display_data"
    }
   ],
   "source": [
    "ax = sns.barplot(x=\"day_of_week\", y=\"length\", hue=\"label\", data=testing)"
   ]
  },
  {
   "cell_type": "code",
   "execution_count": 226,
   "metadata": {},
   "outputs": [
    {
     "data": {
      "image/png": "[encoded data removed]",
      "text/plain": [
       "<Figure size 432x288 with 1 Axes>"
      ]
     },
     "metadata": {
      "needs_background": "light"
     },
     "output_type": "display_data"
    }
   ],
   "source": [
    "ax = sns.barplot(x=\"year\", y=\"length\", hue=\"label\", data=testing)"
   ]
  },
  {
   "cell_type": "code",
   "execution_count": 227,
   "metadata": {},
   "outputs": [
    {
     "data": {
      "image/png": "[encoded data removed]",
      "text/plain": [
       "<Figure size 432x288 with 1 Axes>"
      ]
     },
     "metadata": {
      "needs_background": "light"
     },
     "output_type": "display_data"
    }
   ],
   "source": [
    "#number of sentences\n",
    "ax = sns.boxplot(x=\"label\", y=\"num_sent\", data=testing)"
   ]
  },
  {
   "cell_type": "code",
   "execution_count": null,
   "metadata": {},
   "outputs": [],
   "source": [
    "#POS visual"
   ]
  },
  {
   "cell_type": "code",
   "execution_count": null,
   "metadata": {},
   "outputs": [],
   "source": [
    "#word visualization\n",
    "#scatter plot or line plot \n",
    "#userid chart to show why we are including it in the training datatset"
   ]
  },
  {
   "cell_type": "code",
   "execution_count": null,
   "metadata": {},
   "outputs": [],
   "source": []
  },
  {
   "cell_type": "code",
   "execution_count": 218,
   "metadata": {},
   "outputs": [
    {
     "data": {
      "image/png": "[encoded data removed]",
      "text/plain": [
       "<Figure size 432x288 with 1 Axes>"
      ]
     },
     "metadata": {
      "needs_background": "light"
     },
     "output_type": "display_data"
    }
   ],
   "source": [
    "#percent of total user reviews\n",
    "ax = sns.barplot(x=\"label\", y=\"perc_tot_user_reviews\", hue=\"label\", data=testing)"
   ]
  },
  {
   "cell_type": "code",
   "execution_count": 219,
   "metadata": {},
   "outputs": [
    {
     "data": {
      "image/png": "[encoded data removed]",
      "text/plain": [
       "<Figure size 432x288 with 1 Axes>"
      ]
     },
     "metadata": {
      "needs_background": "light"
     },
     "output_type": "display_data"
    }
   ],
   "source": [
    "#percent of total user reviews\n",
    "ax = sns.boxplot(x=\"label\", y=\"perc_tot_user_reviews\", data=testing)"
   ]
  },
  {
   "cell_type": "markdown",
   "metadata": {},
   "source": [
    "### Imabalanced Classes\n",
    "\n",
    "SMOTE"
   ]
  },
  {
   "cell_type": "markdown",
   "metadata": {},
   "source": [
    "### Modeling\n",
    "Naïve Bayes Classifier, Support Vector\n",
    "Machines and Logistic Regression classifiers"
   ]
  },
  {
   "cell_type": "code",
   "execution_count": null,
   "metadata": {},
   "outputs": [],
   "source": [
    "from sklearn.linear_model import LogisticRegression\n",
    "from sklearn.naive_bayes import BernoulliNB\n",
    "from sklearn.metrics import roc_curve, auc\n",
    "\n",
    "#L O G I S T I C  R E G R E S S I O N \n",
    "#CountVectorizer\n",
    "countvec_LR_model = LogisticRegression()\n",
    "countvec_LR_model.fit(X_train_binary, Y_train)\n",
    "countvec_LR_fpr, countvec_LR_tpr, countvec_LR_thresholds = roc_curve(Y_test, countvec_LR_model.predict_proba(X_test_binary)[:,1])\n",
    "countvec_LR_auc = auc(countvec_LR_fpr, countvec_LR_tpr)\n",
    "\n",
    "#TfidfVectorizer\n",
    "Tfidf_LR_model = LogisticRegression()\n",
    "Tfidf_LR_model.fit(X_train_binary_Tfidf, Y_train)\n",
    "Tfidf_LR_fpr, Tfidf_LR_tpr, Tfidf_LR_thresholds = roc_curve(Y_test, Tfidf_LR_model.predict_proba(X_test_binary_Tfidf)[:,1])\n",
    "Tfidf_LR_auc = auc(Tfidf_LR_fpr, Tfidf_LR_tpr)\n",
    "\n",
    "#B E R N O U L L I  N B \n",
    "#CountVectorizer\n",
    "countvec_NB_model = BernoulliNB()\n",
    "countvec_NB_model.fit(X_train_binary, Y_train)\n",
    "countvec_NB_fpr, countvec_NB_tpr, countvec_NB_thresholds = roc_curve(Y_test, countvec_NB_model.predict_proba(X_test_binary)[:,1])\n",
    "countvec_NB_auc = auc(countvec_NB_fpr, countvec_NB_tpr)\n",
    "\n",
    "#TfidfVectorizer\n",
    "Tfidf_NB_model = BernoulliNB()\n",
    "Tfidf_NB_model.fit(X_train_binary_Tfidf, Y_train)\n",
    "Tfidf_NB_fpr, Tfidf_NB_tpr, Tfidf_NB_thresholds = roc_curve(Y_test, Tfidf_NB_model.predict_proba(X_test_binary_Tfidf)[:,1])\n",
    "Tfidf_NB_auc = auc(Tfidf_NB_fpr, Tfidf_NB_tpr)"
   ]
  }
 ],
 "metadata": {
  "kernelspec": {
   "display_name": "Python 3",
   "language": "python",
   "name": "python3"
  },
  "language_info": {
   "codemirror_mode": {
    "name": "ipython",
    "version": 3
   },
   "file_extension": ".py",
   "mimetype": "text/x-python",
   "name": "python",
   "nbconvert_exporter": "python",
   "pygments_lexer": "ipython3",
   "version": "3.7.3"
  }
 },
 "nbformat": 4,
 "nbformat_minor": 2
}
